{
 "cells": [
  {
   "cell_type": "markdown",
   "id": "18350c69-b286-47df-9d30-77785799a73c",
   "metadata": {},
   "source": [
    "# Revisit Logistic Regression from the Neural Network Perspective"
   ]
  },
  {
   "cell_type": "markdown",
   "id": "969e5efe-3f87-4edc-b881-15974a115e3d",
   "metadata": {},
   "source": [
    "## 0 - Preparation"
   ]
  },
  {
   "cell_type": "code",
   "execution_count": 1,
   "id": "3f9350dc-232d-4e73-98b3-aa781bbe58f3",
   "metadata": {},
   "outputs": [],
   "source": [
    "%matplotlib inline\n",
    "%load_ext autoreload\n",
    "%autoreload 2"
   ]
  },
  {
   "cell_type": "code",
   "execution_count": 2,
   "id": "16a23ea1-4b8f-432a-9127-ce9dfdce651d",
   "metadata": {},
   "outputs": [],
   "source": [
    "import numpy as np\n",
    "import copy\n",
    "import matplotlib.pyplot as plt\n",
    "import h5py\n",
    "import scipy\n",
    "from PIL import Image\n",
    "from scipy import ndimage"
   ]
  },
  {
   "cell_type": "markdown",
   "id": "3b4232f2-faab-4945-9f3e-11dd0288e0f5",
   "metadata": {},
   "source": [
    "## 1 - Data Loading"
   ]
  },
  {
   "cell_type": "markdown",
   "id": "6127d6eb-05fc-4398-bf6d-2fe63568b4cc",
   "metadata": {},
   "source": [
    "- The data includes a training set of many images labeled as cat (y=1) and non-cat (y=0) and a testing set of similar images.\n",
    "\n",
    "- Each image has a shape of (number_pixel, number_pixel, 3), which represent picture width, height, RGB channels.\n",
    "\n",
    "- For the copyright issue, the original dataset is not included in this repo."
   ]
  },
  {
   "cell_type": "code",
   "execution_count": 3,
   "id": "d45bd7b7-0142-4cf5-bdb3-2fbdacec27d6",
   "metadata": {},
   "outputs": [],
   "source": [
    "train_dataset = h5py.File('datasets/train_catvnoncat.h5', \"r\")\n",
    "test_dataset = h5py.File('./datasets/test_catvnoncat.h5', \"r\")"
   ]
  },
  {
   "cell_type": "code",
   "execution_count": 4,
   "id": "89c33c8e-25f3-4ce5-97c7-f8e4abbf1d84",
   "metadata": {},
   "outputs": [
    {
     "data": {
      "text/plain": [
       "(<KeysViewHDF5 ['list_classes', 'train_set_x', 'train_set_y']>,\n",
       " <KeysViewHDF5 ['list_classes', 'test_set_x', 'test_set_y']>)"
      ]
     },
     "execution_count": 4,
     "metadata": {},
     "output_type": "execute_result"
    }
   ],
   "source": [
    "train_dataset.keys(), test_dataset.keys()"
   ]
  },
  {
   "cell_type": "code",
   "execution_count": 5,
   "id": "a9ef55e4-9c22-4fd9-b4ae-77487f47c389",
   "metadata": {},
   "outputs": [],
   "source": [
    "train_set_x_original = train_dataset['train_set_x']\n",
    "train_set_y_original = train_dataset['train_set_y']\n",
    "\n",
    "test_set_x_original = test_dataset['test_set_x']\n",
    "test_set_y_original = test_dataset['test_set_y']"
   ]
  },
  {
   "cell_type": "markdown",
   "id": "ccf78937-05fe-4291-87f8-a6c98aa01f81",
   "metadata": {},
   "source": [
    "Visualize an example image"
   ]
  },
  {
   "cell_type": "code",
   "execution_count": 6,
   "id": "3dd38750-8616-4c6b-9f3d-5a71d2f66d93",
   "metadata": {},
   "outputs": [
    {
     "data": {
      "image/png": "[encoded data removed]",
      "text/plain": [
       "<Figure size 640x480 with 1 Axes>"
      ]
     },
     "metadata": {},
     "output_type": "display_data"
    },
    {
     "name": "stdout",
     "output_type": "stream",
     "text": [
      "This is a 0\n"
     ]
    }
   ],
   "source": [
    "plt.imshow(train_set_x_original[0])\n",
    "plt.show()\n",
    "print(f'This is a {train_set_y_original[0]}')"
   ]
  },
  {
   "cell_type": "markdown",
   "id": "ef03e232-d79f-4254-8c43-5c892b228581",
   "metadata": {},
   "source": [
    "## 2 - Data Examination and Transform"
   ]
  },
  {
   "cell_type": "markdown",
   "id": "1939c78f-3442-4eac-badc-1c0be64c436c",
   "metadata": {},
   "source": [
    "Examine the data"
   ]
  },
  {
   "cell_type": "code",
   "execution_count": 7,
   "id": "ee9df060-0c74-48a1-a966-e132062ca034",
   "metadata": {},
   "outputs": [],
   "source": [
    "num_train = train_set_x_original.shape[0]\n",
    "num_test = test_set_x_original.shape[0]\n",
    "num_width, num_height = train_set_x_original.shape[1], train_set_x_original.shape[2]"
   ]
  },
  {
   "cell_type": "code",
   "execution_count": 8,
   "id": "97f4d5d9-23fb-437f-90a9-7c9ce625e779",
   "metadata": {},
   "outputs": [
    {
     "data": {
      "text/plain": [
       "(209, 50, 64, 64)"
      ]
     },
     "execution_count": 8,
     "metadata": {},
     "output_type": "execute_result"
    }
   ],
   "source": [
    "num_train, num_test, num_width, num_height"
   ]
  },
  {
   "cell_type": "markdown",
   "id": "c696345e-caec-4087-8a98-12baf01cf0ed",
   "metadata": {},
   "source": [
    "Each image should be transformed into a vector to be recognized by logistic regression, so I will flatten the dataset."
   ]
  },
  {
   "cell_type": "code",
   "execution_count": 9,
   "id": "b42c1409-f0f2-47f3-ad44-76ab6146bf83",
   "metadata": {},
   "outputs": [],
   "source": [
    "train_set_x_flat = np.reshape(train_set_x_original, (num_train, num_width * num_height * 3))\n",
    "test_set_x_flat = np.reshape(test_set_x_original, (num_test, num_width * num_height * 3))"
   ]
  },
  {
   "cell_type": "code",
   "execution_count": 10,
   "id": "ce33e945-629b-405f-a12f-0dea19b1655e",
   "metadata": {},
   "outputs": [],
   "source": [
    "train_set_y = np.reshape(train_set_y_original, (num_train, 1))\n",
    "test_set_y = np.reshape(test_set_y_original, (num_test, 1))"
   ]
  },
  {
   "cell_type": "code",
   "execution_count": 11,
   "id": "995e19b4-5b54-4507-a5bb-808b21ad46e5",
   "metadata": {},
   "outputs": [
    {
     "data": {
      "text/plain": [
       "((209, 12288), (50, 12288))"
      ]
     },
     "execution_count": 11,
     "metadata": {},
     "output_type": "execute_result"
    }
   ],
   "source": [
    "train_set_x_flat.shape, test_set_x_flat.shape"
   ]
  },
  {
   "cell_type": "code",
   "execution_count": 12,
   "id": "c38ff673-9b23-47a3-a84b-d440a017ce0e",
   "metadata": {},
   "outputs": [
    {
     "data": {
      "text/plain": [
       "((209, 1), (50, 1))"
      ]
     },
     "execution_count": 12,
     "metadata": {},
     "output_type": "execute_result"
    }
   ],
   "source": [
    "train_set_y.shape, test_set_y.shape"
   ]
  },
  {
   "cell_type": "markdown",
   "id": "11541c52-5c39-4c06-9fb0-6ae4237bb874",
   "metadata": {},
   "source": [
    "Each pixel ranges from 0 to 255, so transform each pixel into 0 to 1"
   ]
  },
  {
   "cell_type": "code",
   "execution_count": 13,
   "id": "933d52df-2def-4b31-a098-bc669c156ddf",
   "metadata": {},
   "outputs": [],
   "source": [
    "train_set_x = train_set_x_flat / 255.0\n",
    "test_set_x = test_set_x_flat / 255.0"
   ]
  },
  {
   "cell_type": "code",
   "execution_count": 14,
   "id": "8c2fde74-6036-4f13-a9b9-c141323e5ac9",
   "metadata": {},
   "outputs": [
    {
     "data": {
      "text/plain": [
       "(0.0, 1.0)"
      ]
     },
     "execution_count": 14,
     "metadata": {},
     "output_type": "execute_result"
    }
   ],
   "source": [
    "np.min(train_set_x), np.max(train_set_x)"
   ]
  },
  {
   "cell_type": "code",
   "execution_count": 15,
   "id": "0837a36b-0659-403b-80a8-bb1a773101c5",
   "metadata": {},
   "outputs": [
    {
     "data": {
      "text/plain": [
       "(0.0, 1.0)"
      ]
     },
     "execution_count": 15,
     "metadata": {},
     "output_type": "execute_result"
    }
   ],
   "source": [
    "np.min(test_set_x), np.max(test_set_x)"
   ]
  },
  {
   "cell_type": "markdown",
   "id": "527e2012-4cfd-4fde-b789-5d421a5e47bc",
   "metadata": {},
   "source": [
    "## 3 - View Logistic Regression from the Neural Network Perspective"
   ]
  },
  {
   "cell_type": "markdown",
   "id": "ef053b11-09cd-4188-9caf-9bbc76d6bc11",
   "metadata": {},
   "source": [
    "- Each sample (image) $x^{(i)}$ is now a vector with a dimension of `64*64*3 = 12288`\n",
    "- A logistic regression with `12288` weight parameters and a bias term can be constructed: (superscript refers to the `i-th` sample and subscript denotes the `i-th` feature or weight parameter)\n",
    "\n",
    "$$\n",
    "log \\frac{p^{(i)}}{1-p^{(i)}} = w_0 + w_1 \\cdot x^{(i)}_1 + w_2 \\cdot x^{(i)}_2 + ... + w_{12288} * x^{(i)}_{12288}\n",
    "$$\n",
    "\n",
    "The formula above is equivalent to:\n",
    "\n",
    "$$\n",
    "p^{(i)} = \\frac{1}{1 + exp(-z^{(i)})}\n",
    "$$\n",
    "\n",
    "where\n",
    "\n",
    "$$\n",
    "z = w_0 + w_1 \\cdot x^{(i)}_1 + w_2 \\cdot x^{(i)}_2 + ... + w_{12288} * x^{(i)}_{12288}\n",
    "$$"
   ]
  },
  {
   "cell_type": "markdown",
   "id": "35054176-3053-4f9b-85d6-d5174099eb68",
   "metadata": {},
   "source": [
    "- The logistic regression model above can be viewed as a simple `Neural Network`\n",
    "- The input layer contains `12288` neurons\n",
    "- The output layer contains an activation function of `sigmoid`"
   ]
  },
  {
   "cell_type": "markdown",
   "id": "768b6dd2-9cc2-4df6-9296-f7414b5e1de0",
   "metadata": {},
   "source": [
    "From the input layer to the ouput layer, the following calculations are performed on each sample $\\vec{x}^{(i)}$"
   ]
  },
  {
   "cell_type": "markdown",
   "id": "c79cf4e0-5932-44db-9c57-96be852a2a40",
   "metadata": {},
   "source": [
    "$$\n",
    "z^{(i)} = w_0 + w_1 \\cdot x^{(i)}_1 + w_2 \\cdot x^{(i)}_2 + ... + w_{12288} * x^{(i)}_{12288} = w_0 + \\vec{w}^T \\cdot \\vec{x}\n",
    "$$\n",
    "\n",
    "$$\n",
    "\\hat{y}^{(i)} = sigmoid(z^{(i)}) = \\frac{1}{1+exp(-z^{(i)})}\n",
    "$$"
   ]
  },
  {
   "cell_type": "markdown",
   "id": "32788a39-4d65-44cb-b878-f74dff9b4918",
   "metadata": {},
   "source": [
    "To measure how close our prediction is close to the ground truth, the following loss function is adopted for a `single sample`:"
   ]
  },
  {
   "cell_type": "markdown",
   "id": "151d7a33-f363-451d-9d33-4a8dfcce3ef5",
   "metadata": {},
   "source": [
    "$$\n",
    "L(\\hat{y}^{(i)}, y^{(i)}) =  - y^{(i)}  \\log(\\hat{y}^{(i)}) - (1-y^{(i)} )  \\log(1-\\hat{y}^{(i)})\n",
    "$$"
   ]
  },
  {
   "cell_type": "markdown",
   "id": "c22a5e32-adcc-440c-8bf2-8f5d8e6f44ff",
   "metadata": {},
   "source": [
    "By considering all $n$ samples, the loss function will be:"
   ]
  },
  {
   "cell_type": "markdown",
   "id": "2a0519df-0c29-4435-adcf-e81f465924d2",
   "metadata": {},
   "source": [
    "$$\n",
    "J = \\frac{1}{n} \\sum_{i=1}^{n} L(\\hat{y}^{(i)}, y^{(i)})\n",
    "$$"
   ]
  },
  {
   "cell_type": "markdown",
   "id": "cd66421c-f540-43b3-b24b-d1b22b70c634",
   "metadata": {},
   "source": [
    "For each weight parameter and bias term, its gradient is calculated as follows:"
   ]
  },
  {
   "cell_type": "markdown",
   "id": "4852e23b-6d28-4f6a-be91-429fef2d60b5",
   "metadata": {},
   "source": [
    "$$\n",
    "\\frac{\\partial{J}}{\\partial{\\vec{w}}} = \\frac{1}{n} X^T (\\hat{Y} - Y)\n",
    "$$\n",
    "\n",
    "\n",
    "$$\n",
    "\\frac{\\partial{J}}{\\partial{w_0}} = \\frac{1}{n} \\sum_{i=1}^{n} (\\hat{y}^{(i)} - y^{(i)})\n",
    "$$"
   ]
  },
  {
   "cell_type": "markdown",
   "id": "bd184852-5dbd-4246-af02-c3fb4b85295c",
   "metadata": {},
   "source": [
    "## 4 - Neural Network Implementation - Functions"
   ]
  },
  {
   "cell_type": "markdown",
   "id": "c050dfa6-f47a-4a15-aaad-93907eca3fbe",
   "metadata": {},
   "source": [
    "`sigmoid` activation function"
   ]
  },
  {
   "cell_type": "code",
   "execution_count": 16,
   "id": "09eb2285-9663-4536-8131-e4b769cc760a",
   "metadata": {},
   "outputs": [],
   "source": [
    "def sigmoid(z: np.ndarray):\n",
    "    \"\"\"\n",
    "    Compute the sigmoid of z\n",
    "    \"\"\"\n",
    "    return 1.0 / (1.0 + np.exp(-z))"
   ]
  },
  {
   "cell_type": "markdown",
   "id": "e092e400-923c-4347-942a-24b8b79012c6",
   "metadata": {},
   "source": [
    "`init_param` function to initialize parameters"
   ]
  },
  {
   "cell_type": "code",
   "execution_count": 17,
   "id": "7db0b962-67f6-4840-a289-9e3ddfdad0e9",
   "metadata": {},
   "outputs": [],
   "source": [
    "def init_param(num_feature):\n",
    "    \"\"\"\n",
    "    Initialize weight vector and bias term\n",
    "    \"\"\"\n",
    "    # always use column vector\n",
    "    w = np.zeros([num_feature, 1])\n",
    "    b = 0.0\n",
    "    return w, b"
   ]
  },
  {
   "cell_type": "markdown",
   "id": "69dbf27a-b0fa-47c5-bd9f-f7a6c70c2bff",
   "metadata": {},
   "source": [
    "`forward` function to compute loss and gradient"
   ]
  },
  {
   "cell_type": "code",
   "execution_count": 18,
   "id": "f524c38a-776e-4cb0-a915-6a3556bfa784",
   "metadata": {},
   "outputs": [],
   "source": [
    "def forward(w: np.ndarray, b: float, X: np.ndarray, Y: np.ndarray):\n",
    "    \"\"\"\n",
    "    Arguments\n",
    "    w: a vector with a dimension of (num_width*num_height*3, 1)\n",
    "    b: a scalar\n",
    "    X: a matrix with a shape of (num_samples, num_width*num_height*3)\n",
    "    Y: a vector with a dimension of (num_samples, 1)\n",
    "\n",
    "    Return:\n",
    "    cost: loss function value\n",
    "    dw: gradient of the loss with respect to w, thus same shape as w\n",
    "    db: gradient of the loss with respect to b, thus same shape as b\n",
    "    \"\"\"\n",
    "    # calculate the loss\n",
    "    n = X.shape[0]\n",
    "    Z = np.dot(X, w) + b  # (num_samples, 1)\n",
    "    Y_hat = sigmoid(Z)  # (num_samples, 1)\n",
    "    loss = -1.0 / n * (np.dot(Y.T, np.log(Y_hat)) + np.dot((1 - Y).T, np.log(1 - Y_hat)))\n",
    "    # calculate the gradient\n",
    "    dw = 1.0 / n * np.dot(X.T,(Y_hat - Y))\n",
    "    db = 1.0 / n * np.sum((Y_hat - Y))\n",
    "    # organize into output format\n",
    "    loss = np.squeeze(np.array(loss))\n",
    "    grads = {\"dw\": dw,\n",
    "             \"db\": db}\n",
    "    \n",
    "    return grads, loss"
   ]
  },
  {
   "cell_type": "markdown",
   "id": "6b6f7d69-f647-4bf7-a127-a5817a4ad9cb",
   "metadata": {},
   "source": [
    "`optimize` function relies on gradient descent to update parameters"
   ]
  },
  {
   "cell_type": "code",
   "execution_count": 19,
   "id": "723cca0e-eda9-4b02-9028-ac0d245528f7",
   "metadata": {},
   "outputs": [],
   "source": [
    "def optimize(w: np.ndarray, b: float, X: np.ndarray, Y: np.ndarray, num_iterations: int=100, learning_rate: float=1e-3):\n",
    "    \"\"\"\n",
    "    Arguments:\n",
    "    w: a vector with a dimension of (num_width*num_height*3, 1)\n",
    "    b: a scalar\n",
    "    X: a matrix with a shape of (num_samples, num_width*num_height*3)\n",
    "    Y: a vector with a dimension of (num_samples, 1)\n",
    "    \n",
    "    Returns:\n",
    "    params: {'w': w value, 'b': b value}\n",
    "    grads: {'dw': w gradient, 'db': b gradient}\n",
    "    losses: a list including loss at each step\n",
    "    \"\"\"\n",
    "    losses = []\n",
    "    # Perform gradient descent\n",
    "    for i in range(num_iterations):\n",
    "        # loss\n",
    "        grads, loss = forward(w, b, X, Y)\n",
    "        dw, db = grads['dw'], grads['db']\n",
    "        w = w - learning_rate * grads[\"dw\"]\n",
    "        b = b - learning_rate * grads[\"db\"]\n",
    "        \n",
    "        # Record the costs\n",
    "        if i % 100 == 0:\n",
    "            losses.append(loss)\n",
    "            print (\"Loss after iteration %i: %f\" %(i, loss))\n",
    "    # Save results into dict\n",
    "    params = {\"w\": w,\n",
    "              \"b\": b}\n",
    "    grads = {\"dw\": dw,\n",
    "             \"db\": db}\n",
    "    return params, grads, losses"
   ]
  },
  {
   "cell_type": "markdown",
   "id": "1d7c5da0-8954-4e9f-b240-7374bd7306d1",
   "metadata": {},
   "source": [
    "`predict` function to assign labels to new samples"
   ]
  },
  {
   "cell_type": "code",
   "execution_count": 20,
   "id": "1ca1a191-9f19-476c-87f3-018aeedecdda",
   "metadata": {},
   "outputs": [],
   "source": [
    "def predict(w, b, X):\n",
    "    \"\"\"\n",
    "    Given X, predict its corresponding Y.\n",
    "\n",
    "    Arguments:\n",
    "    w: a vector with a dimension of (num_width*num_height*3, 1)\n",
    "    b: a scalar\n",
    "    X: a matrix with a shape of (num_samples, num_width*num_height*3)\n",
    "\n",
    "    Return:\n",
    "    Ypred: a vector with a dimension of (num_samples, 1)\n",
    "    \"\"\"\n",
    "    Y_hat = sigmoid(np.dot(X, w) + b)  # (num_samples, 1)\n",
    "    Y_pred = np.where(Y_hat>0.5, 1, 0)\n",
    "    return Y_pred"
   ]
  },
  {
   "cell_type": "markdown",
   "id": "99995649-6cff-4020-85ab-2794fe356b3a",
   "metadata": {},
   "source": [
    "## 5 - Neural Network Implementation - Model"
   ]
  },
  {
   "cell_type": "markdown",
   "id": "0ad0166b-19cb-4a1f-9949-0e388c657f49",
   "metadata": {},
   "source": [
    "By combining all functions above, we can have a single function to train the model."
   ]
  },
  {
   "cell_type": "code",
   "execution_count": 21,
   "id": "e96e0e79-f39e-4eed-8464-115b885f44e0",
   "metadata": {},
   "outputs": [],
   "source": [
    "def model(X_train: np.ndarray, Y_train: np.ndarray, X_test: np.ndarray, Y_test: np.ndarray, num_iterations: int=1000, learning_rate: float=1e-3):\n",
    "    \"\"\"\n",
    "    Builds a simple neural network model to simulate logistic regression.\n",
    "\n",
    "    Arguments:\n",
    "    X_train: a matrix with a shape of (num_samples, num_width*num_height*3)\n",
    "    Y_train: a vector with a dimension of (num_samples, 1)\n",
    "    X_test: a matrix with a shape of (num_samples, num_width*num_height*3)\n",
    "    Y_test: a vector with a dimension of (num_samples, 1)\n",
    "\n",
    "    Returns:\n",
    "    result: {'loss': loss, 'Y_pred_train': Y_pred_train, 'Y_pred_test': Ypred_test, 'w': w, 'b': b}\n",
    "    \"\"\"\n",
    "    num_feature = X_train.shape[1]\n",
    "    # Step - 1: initialize parameters\n",
    "    w, b = init_param(num_feature)\n",
    "    # Step - 2: forward and backward\n",
    "    params, grads, losses = optimize(w, b, X_train, Y_train, num_iterations, learning_rate)\n",
    "    # Step - 3: make predictions\n",
    "    w, b = params['w'], params['b']\n",
    "    Y_pred_train = predict(w, b, X_train)\n",
    "    Y_pred_test = predict(w, b, X_test)\n",
    "    # Step - 4: save results\n",
    "    result = {\n",
    "        'loss': losses,\n",
    "        'Y_pred_train': Y_pred_train, \n",
    "        'Y_pred_test': Y_pred_test, \n",
    "        'w': w, \n",
    "        'b': b\n",
    "    }\n",
    "    return result"
   ]
  },
  {
   "cell_type": "code",
   "execution_count": 22,
   "id": "47a21a8f-1818-4589-92d8-6c4d6723aa28",
   "metadata": {},
   "outputs": [
    {
     "name": "stdout",
     "output_type": "stream",
     "text": [
      "Loss after iteration 0: 0.693147\n",
      "Loss after iteration 100: 0.584508\n",
      "Loss after iteration 200: 0.466949\n",
      "Loss after iteration 300: 0.376007\n",
      "Loss after iteration 400: 0.331463\n",
      "Loss after iteration 500: 0.303273\n",
      "Loss after iteration 600: 0.279880\n",
      "Loss after iteration 700: 0.260042\n",
      "Loss after iteration 800: 0.242941\n",
      "Loss after iteration 900: 0.228004\n",
      "Loss after iteration 1000: 0.214820\n",
      "Loss after iteration 1100: 0.203078\n",
      "Loss after iteration 1200: 0.192544\n",
      "Loss after iteration 1300: 0.183033\n",
      "Loss after iteration 1400: 0.174399\n",
      "Loss after iteration 1500: 0.166521\n",
      "Loss after iteration 1600: 0.159305\n",
      "Loss after iteration 1700: 0.152667\n",
      "Loss after iteration 1800: 0.146542\n",
      "Loss after iteration 1900: 0.140872\n"
     ]
    }
   ],
   "source": [
    "nn_model = model(train_set_x, train_set_y, test_set_x, test_set_y, num_iterations=2000, learning_rate=0.005)"
   ]
  },
  {
   "cell_type": "markdown",
   "id": "4bac2e6d-d5f8-4e7a-890e-fdd70778add6",
   "metadata": {},
   "source": [
    "## 6 Post-Model Analysis"
   ]
  },
  {
   "cell_type": "markdown",
   "id": "f8bafb52-316b-4300-94ca-b792a693d456",
   "metadata": {},
   "source": [
    "Visualize the loss variation"
   ]
  },
  {
   "cell_type": "code",
   "execution_count": 23,
   "id": "2fe8784d-6286-4aa8-b2a4-8ee5cc9fc387",
   "metadata": {},
   "outputs": [],
   "source": [
    "losses = np.squeeze(nn_model['loss'])"
   ]
  },
  {
   "cell_type": "code",
   "execution_count": 24,
   "id": "ed36ff1b-ac9b-44cd-b4e5-01ca2bd318af",
   "metadata": {},
   "outputs": [
    {
     "data": {
      "image/png": "[encoded data removed]",
      "text/plain": [
       "<Figure size 640x480 with 1 Axes>"
      ]
     },
     "metadata": {},
     "output_type": "display_data"
    }
   ],
   "source": [
    "fig = plt.figure()\n",
    "plt.plot(losses)\n",
    "plt.ylabel('cost')\n",
    "plt.xlabel('iterations (every 100)')\n",
    "plt.title(\"Loss variation\")\n",
    "plt.show()"
   ]
  },
  {
   "cell_type": "markdown",
   "id": "58608f28-865c-4350-a606-d1c1e88fd06d",
   "metadata": {},
   "source": [
    "Visualize accuracy"
   ]
  },
  {
   "cell_type": "code",
   "execution_count": 25,
   "id": "60f1ea79-6c05-40b3-962d-2e8752ecb507",
   "metadata": {},
   "outputs": [],
   "source": [
    "acc_train = np.squeeze(nn_model['Y_pred_train'] == train_set_y).mean()\n",
    "acc_test = np.squeeze(nn_model['Y_pred_test'] == test_set_y).mean()"
   ]
  },
  {
   "cell_type": "code",
   "execution_count": 26,
   "id": "2f51060d-1705-47c2-a83a-fdccc04b580d",
   "metadata": {},
   "outputs": [
    {
     "data": {
      "text/plain": [
       "(0.9904306220095693, 0.7)"
      ]
     },
     "execution_count": 26,
     "metadata": {},
     "output_type": "execute_result"
    }
   ],
   "source": [
    "acc_train, acc_test"
   ]
  },
  {
   "cell_type": "markdown",
   "id": "ae5a194f-ea6c-4d13-ac25-5cf3f51aa9cf",
   "metadata": {},
   "source": [
    "Use my own cat"
   ]
  },
  {
   "cell_type": "code",
   "execution_count": 27,
   "id": "e5477aec-02f3-44ad-a06d-9ba9a5f6069c",
   "metadata": {},
   "outputs": [
    {
     "data": {
      "image/png": "[encoded data removed]",
      "text/plain": [
       "<Figure size 640x480 with 1 Axes>"
      ]
     },
     "metadata": {},
     "output_type": "display_data"
    }
   ],
   "source": [
    "image = np.array(Image.open('images/my_image.jpeg').resize((num_width, num_height)))\n",
    "plt.imshow(image)\n",
    "plt.show()"
   ]
  },
  {
   "cell_type": "code",
   "execution_count": 28,
   "id": "874f7537-9d4d-47b5-a6d5-6db508536292",
   "metadata": {},
   "outputs": [],
   "source": [
    "image = image / 255.\n",
    "image = image.reshape((1, num_width * num_height * 3))"
   ]
  },
  {
   "cell_type": "code",
   "execution_count": 29,
   "id": "ce89b9cb-5cdf-4690-a556-429f0e5ca27e",
   "metadata": {},
   "outputs": [
    {
     "name": "stdout",
     "output_type": "stream",
     "text": [
      "[[1]]\n"
     ]
    }
   ],
   "source": [
    "my_cat_pred = predict(nn_model[\"w\"], nn_model[\"b\"], image)\n",
    "\n",
    "print(my_cat_pred)"
   ]
  },
  {
   "cell_type": "code",
   "execution_count": null,
   "id": "f3f25f1c-7db0-4231-b16e-425cb1c42420",
   "metadata": {},
   "outputs": [],
   "source": []
  }
 ],
 "metadata": {
  "kernelspec": {
   "display_name": "data_science",
   "language": "python",
   "name": "data_science"
  },
  "language_info": {
   "codemirror_mode": {
    "name": "ipython",
    "version": 3
   },
   "file_extension": ".py",
   "mimetype": "text/x-python",
   "name": "python",
   "nbconvert_exporter": "python",
   "pygments_lexer": "ipython3",
   "version": "3.12.2"
  }
 },
 "nbformat": 4,
 "nbformat_minor": 5
}
