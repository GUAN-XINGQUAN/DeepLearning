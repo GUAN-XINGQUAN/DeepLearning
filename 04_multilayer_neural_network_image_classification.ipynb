{
 "cells": [
  {
   "cell_type": "markdown",
   "id": "4c46f94e-f0b3-4421-abea-bd5489cbdeaf",
   "metadata": {},
   "source": [
    "# Multilayer Neural Network for Image Classification"
   ]
  },
  {
   "cell_type": "markdown",
   "id": "ca2760fd-e9ac-4245-b8ae-42a80a3f39d9",
   "metadata": {},
   "source": [
    "We will use the multi-layer neural network for an image classification task."
   ]
  },
  {
   "cell_type": "markdown",
   "id": "1854f354-ca85-452a-9594-07eaa8f48cc6",
   "metadata": {},
   "source": [
    "## 0 - Preparation"
   ]
  },
  {
   "cell_type": "code",
   "execution_count": 1,
   "id": "884971e2-d5a8-4e3c-9e53-fc62c38baf95",
   "metadata": {},
   "outputs": [],
   "source": [
    "%load_ext autoreload\n",
    "%autoreload 2"
   ]
  },
  {
   "cell_type": "code",
   "execution_count": 2,
   "id": "cbb19f29-1d18-4009-9ddb-dc6849513b75",
   "metadata": {},
   "outputs": [],
   "source": [
    "import time\n",
    "import numpy as np\n",
    "import h5py\n",
    "import matplotlib.pyplot as plt\n",
    "import scipy\n",
    "from PIL import Image\n",
    "from scipy import ndimage"
   ]
  },
  {
   "cell_type": "markdown",
   "id": "400cfc9e-c4ab-4218-943e-5066df55f7da",
   "metadata": {},
   "source": [
    "The following files are auxiliary files for unit test. For copyright issues, they won't be provided in this repo. However, they only serve as testing purposes."
   ]
  },
  {
   "cell_type": "code",
   "execution_count": 3,
   "id": "7805dedb-2085-46f6-8374-aede2100be85",
   "metadata": {},
   "outputs": [],
   "source": [
    "from dnn_app_utils_v3 import *\n",
    "from public_tests import *"
   ]
  },
  {
   "cell_type": "markdown",
   "id": "8118ad5f-9e46-4121-8012-955280b4ae39",
   "metadata": {},
   "source": [
    "## 1 - Data Loading "
   ]
  },
  {
   "cell_type": "markdown",
   "id": "0d1f46e6-bedf-4161-9e7d-6bc3dcf952f7",
   "metadata": {},
   "source": [
    "- The data includes a training set of many images labeled as cat (y=1) and non-cat (y=0) and a testing set of similar images.\n",
    "\n",
    "- Each image has a shape of (number_pixel, number_pixel, 3), which represent picture width, height, RGB channels.\n",
    "\n",
    "- For the copyright issue, the original dataset is not included in this repo."
   ]
  },
  {
   "cell_type": "code",
   "execution_count": 4,
   "id": "9a938ac2-9a44-4467-acec-e10e69ee9f69",
   "metadata": {},
   "outputs": [],
   "source": [
    "train_x_orig, train_y, test_x_orig, test_y, classes = load_data()"
   ]
  },
  {
   "cell_type": "code",
   "execution_count": 5,
   "id": "57655838-b2ba-4743-babc-0b66759b9816",
   "metadata": {},
   "outputs": [
    {
     "data": {
      "image/png": "[encoded data removed]",
      "text/plain": [
       "<Figure size 640x480 with 1 Axes>"
      ]
     },
     "metadata": {},
     "output_type": "display_data"
    },
    {
     "name": "stdout",
     "output_type": "stream",
     "text": [
      "This is a 0\n"
     ]
    }
   ],
   "source": [
    "plt.imshow(train_x_orig[0])\n",
    "plt.show()\n",
    "print(f'This is a {train_y[0, 0]}')"
   ]
  },
  {
   "cell_type": "markdown",
   "id": "5ee27390-9a07-4064-94cc-f842b8ca3944",
   "metadata": {},
   "source": [
    "## 2- Data Examination and Transform"
   ]
  },
  {
   "cell_type": "markdown",
   "id": "562780e1-6247-4e16-8449-65f6b2fcfd2f",
   "metadata": {},
   "source": [
    "Examine the data"
   ]
  },
  {
   "cell_type": "code",
   "execution_count": 6,
   "id": "1e6ee87c-309f-4d09-9dc3-8abe5048b784",
   "metadata": {},
   "outputs": [
    {
     "data": {
      "text/plain": [
       "((209, 64, 64, 3), (1, 209), (50, 64, 64, 3), (1, 50))"
      ]
     },
     "execution_count": 6,
     "metadata": {},
     "output_type": "execute_result"
    }
   ],
   "source": [
    "train_x_orig.shape, train_y.shape, test_x_orig.shape, test_y.shape"
   ]
  },
  {
   "cell_type": "markdown",
   "id": "816fb209-a1a9-461b-a24b-b9d81ce6ff79",
   "metadata": {},
   "source": [
    "Each image should be transformed into a vector to be recognized by the neural network, so I will flatten the dataset."
   ]
  },
  {
   "cell_type": "code",
   "execution_count": 7,
   "id": "379e3e81-24b2-4eee-82cd-6167149847a0",
   "metadata": {},
   "outputs": [],
   "source": [
    "num_train = train_x_orig.shape[0]\n",
    "num_test = test_x_orig.shape[0]\n",
    "train_x_flatten = train_x_orig.reshape((num_train, -1)).T\n",
    "test_x_flatten = test_x_orig.reshape((num_test, -1)).T"
   ]
  },
  {
   "cell_type": "markdown",
   "id": "b7137108-f5b3-4ac3-8165-6bf398912c4c",
   "metadata": {},
   "source": [
    "Each pixel ranges from 0 to 255, so transform each pixel into 0 to 1"
   ]
  },
  {
   "cell_type": "code",
   "execution_count": 8,
   "id": "1127d1b2-4855-4a7a-93d7-a99124440230",
   "metadata": {},
   "outputs": [],
   "source": [
    "train_x = train_x_flatten / 255.0\n",
    "test_x = test_x_flatten / 255.0"
   ]
  },
  {
   "cell_type": "code",
   "execution_count": 9,
   "id": "c8992d23-6f86-4610-a27f-989749aa4ebf",
   "metadata": {},
   "outputs": [
    {
     "data": {
      "text/plain": [
       "((12288, 209), (1, 209), (12288, 50), (1, 50))"
      ]
     },
     "execution_count": 9,
     "metadata": {},
     "output_type": "execute_result"
    }
   ],
   "source": [
    "train_x.shape, train_y.shape, test_x.shape, test_y.shape"
   ]
  },
  {
   "cell_type": "markdown",
   "id": "73b98523-3862-4450-8ad5-61cd5d45cc95",
   "metadata": {},
   "source": [
    "## 3 - Two-Layer Neural Network"
   ]
  },
  {
   "cell_type": "markdown",
   "id": "0f20de83-8006-4915-8eac-e73b43d11ee2",
   "metadata": {},
   "source": [
    "For a two-layer neural netowrk (input layer is not counted), the input $X$ undergoes the following transformation"
   ]
  },
  {
   "cell_type": "markdown",
   "id": "7a6c1a48-0936-4aba-9401-f49eef5d223b",
   "metadata": {},
   "source": [
    "1st layer linear combination:\n",
    "$$\n",
    "Z^{[1]} = W^{[1]} \\cdot X + \\vec{b}^{[1]}\n",
    "$$\n",
    "\n",
    "1st layer activation:\n",
    "$$\n",
    "A^{[1]} = \\text{relu}(Z^{[1]} )\n",
    "$$\n",
    "\n",
    "2nd layer linear combination:\n",
    "$$\n",
    "Z^{[2]} = W^{[2]} \\cdot A ^{[1]} + \\vec{b}^{[2]}\n",
    "$$\n",
    "\n",
    "2nd layer activation\n",
    "$$\n",
    "\\hat{Y} = A^{[2]} = \\text{sigmoid}(Z^{[2]} )\n",
    "$$"
   ]
  },
  {
   "cell_type": "markdown",
   "id": "c46b1044-9c4c-4101-a1df-0587f417ef42",
   "metadata": {},
   "source": [
    "The cross entropy function is used as the loss function:\n",
    "\n",
    "$$\n",
    "J = -1.0 \\cdot \\frac{1}{n} \\sum_{i=1}^{n} (y^{(i)}\\text{log}(\\hat{y}^{(i)}) + (1-y^{(i)})\\text{log}(1-\\hat{y}^{(i)}))\n",
    "$$"
   ]
  },
  {
   "cell_type": "markdown",
   "id": "bb7db581-16ee-4798-97ff-327ff5b7763a",
   "metadata": {},
   "source": [
    "The backward propagation are calculated as follows:"
   ]
  },
  {
   "cell_type": "markdown",
   "id": "357570a9-a359-4739-98dd-6d0916553bc5",
   "metadata": {},
   "source": [
    "Loss function:\n",
    "$$\n",
    "\\frac{\\partial J}{\\partial A^{[2]}} = -1.0 \\cdot (\\frac{Y}{A^{[2]}} - \\frac{1-Y}{1-A^{[2]}})\n",
    "$$\n",
    "\n",
    "Activation function at last layer:\n",
    "$$\n",
    "\\frac{\\partial J}{\\partial Z^{[2]}} = \\frac{\\partial J}{\\partial A^{[2]}} \\cdot \\frac{\\partial A^{[2]}}{\\partial Z^{[2]}} = A^{[2]} - Y\n",
    "$$\n",
    "\n",
    "Linear combination at last layer:\n",
    "$$\n",
    "\\frac{\\partial J}{\\partial W^{[2]}} = \\frac{\\partial J}{\\partial Z^{[2]}} \\cdot \\frac{\\partial Z^{[2]}}{\\partial W^{[2]}} = \\frac{1}{n} (A^{[2]} - Y) A^{[1]T}\n",
    "$$\n",
    "\n",
    "$$\n",
    "\\frac{\\partial J}{\\partial \\vec{b}^{[2]}} = \\frac{\\partial J}{\\partial Z^{[2]}} \\cdot \\frac{\\partial Z^{[2]}}{\\partial \\vec{b}^{[2]}} = \\frac{1}{n} \\text{sum} (A^{[2]} - Y)\n",
    "$$\n",
    "\n",
    "Activation function at 1st layer:\n",
    "$$\n",
    "\\frac{\\partial J}{\\partial A^{[1]}} = \\frac{\\partial J}{\\partial Z^{[2]}} \\cdot \\frac{\\partial Z^{[2]}}{\\partial A^{[1]}} = W^{[2]T} (A^{[2]} - Y) \n",
    "$$\n",
    "\n",
    "$$\n",
    "\\frac{\\partial J}{\\partial Z^{[1]}} = \\frac{\\partial J}{\\partial A^{[1]}} \\cdot \\frac{\\partial A^{[1]}}{\\partial Z^{[1]}} = W^{[2]T} (A^{[2]} - Y) \\cdot \\text{np.where}(Z^{[1]} > 0, 1, 0)\n",
    "$$\n",
    "\n",
    "Linear combination at 1st layer:\n",
    "$$ \n",
    "\\frac{\\partial J}{\\partial W^{[1]}} = \\frac{\\partial J}{\\partial Z^{[1]}}  \\frac{\\partial Z^{[1]}}{\\partial W^{[1]}} =  \\frac{1}{n} \\frac{\\partial J}{\\partial Z^{[1]}}  X^T\n",
    "$$\n",
    "\n",
    "$$ \n",
    "\\frac{\\partial J}{\\partial \\vec{b}^{[1]}} = \\frac{\\partial J}{\\partial Z^{[1]}}  \\frac{\\partial Z^{[1]}}{\\partial \\vec{b}^{[1]}} =  \\frac{1}{n} \\text{sum}(\\frac{\\partial J}{\\partial Z^{[1]}})\n",
    "$$"
   ]
  },
  {
   "cell_type": "markdown",
   "id": "76e6fdfe-0196-46ed-9da9-ba3773961fc9",
   "metadata": {},
   "source": [
    "`two_layer_model`: wrap the model into a function"
   ]
  },
  {
   "cell_type": "code",
   "execution_count": 10,
   "id": "d9e48a3d-d7ae-4d61-893e-796f3d978178",
   "metadata": {},
   "outputs": [],
   "source": [
    "def two_layer_model(X: np.ndarray, Y: np.ndarray, layers_dims: list[int], learning_rate: float=0.0075, num_iterations: int=3000):\n",
    "    \"\"\"\n",
    "    Two-layer neural network: linear->relu->linear->sigmoid\n",
    "    \n",
    "    Arguments:\n",
    "    X: (num_feature, num_samples)\n",
    "    Y: (1, num_samples)\n",
    "    layers_dims: [input_layer_size, hidden_layer_size, output_layer_size]\n",
    "    num_iterations: maximum number of iterations for training loop\n",
    "    learning_rate: float for adjust learning step\n",
    "    \n",
    "    Returns:\n",
    "    parameters: {'W1': W1, 'b1': b1, 'W2': W2, 'b2': b2}\n",
    "    \"\"\"\n",
    "    np.random.seed(1)\n",
    "    grads = {}\n",
    "    losses = [] \n",
    "    num_samples = X.shape[1] \n",
    "    (input_layer_size, hidden_layer_size, output_layer_size) = layers_dims\n",
    "    # Initialize parameters\n",
    "    parameters = initialize_parameters(input_layer_size, hidden_layer_size, output_layer_size)\n",
    "    # Extract \n",
    "    W1 = parameters[\"W1\"]\n",
    "    b1 = parameters[\"b1\"]\n",
    "    W2 = parameters[\"W2\"]\n",
    "    b2 = parameters[\"b2\"]\n",
    "    # Loop for training\n",
    "    for i in range(0, num_iterations):\n",
    "        # forward pass\n",
    "        A1, cache1 = linear_activation_forward(X, W1, b1, 'relu')\n",
    "        A2, cache2 = linear_activation_forward(A1, W2, b2, 'sigmoid')\n",
    "        # compute the loss\n",
    "        loss = compute_cost(A2, Y)\n",
    "        # backward pass\n",
    "        dA2 = - (np.divide(Y, A2) - np.divide(1 - Y, 1 - A2))\n",
    "        dA1, dW2, db2 = linear_activation_backward(dA2, cache2, 'sigmoid')\n",
    "        dA0, dW1, db1 = linear_activation_backward(dA1, cache1, 'relu')\n",
    "        # save into dict\n",
    "        grads['dW1'] = dW1\n",
    "        grads['db1'] = db1\n",
    "        grads['dW2'] = dW2\n",
    "        grads['db2'] = db2\n",
    "        # update the parameters\n",
    "        parameters = update_parameters(parameters, grads, learning_rate) \n",
    "        # extract for next for loop\n",
    "        W1 = parameters['W1']\n",
    "        b1 = parameters['b1']\n",
    "        W2 = parameters['W2']\n",
    "        b2 = parameters['b2']\n",
    "        # visualize training progress\n",
    "        if i % 100 == 0 or i == num_iterations-1:\n",
    "            print(\"Cost after iteration {}: {}\".format(i, np.squeeze(loss)))\n",
    "            losses.append(loss)\n",
    "    return parameters, losses"
   ]
  },
  {
   "cell_type": "markdown",
   "id": "95a28eb1-64f5-4d48-86fd-d0ba929d8fb6",
   "metadata": {},
   "source": [
    "call the model function to train the model"
   ]
  },
  {
   "cell_type": "code",
   "execution_count": 11,
   "id": "bc7030eb-6e71-46fe-8435-2f46a6573124",
   "metadata": {},
   "outputs": [
    {
     "name": "stdout",
     "output_type": "stream",
     "text": [
      "Cost after iteration 0: 0.6930497356599888\n",
      "Cost after iteration 100: 0.6464320953428849\n",
      "Cost after iteration 200: 0.6325140647912677\n",
      "Cost after iteration 300: 0.6015024920354665\n",
      "Cost after iteration 400: 0.5601966311605747\n",
      "Cost after iteration 500: 0.5158304772764729\n",
      "Cost after iteration 600: 0.4754901313943325\n",
      "Cost after iteration 700: 0.4339163151225749\n",
      "Cost after iteration 800: 0.4007977536203887\n",
      "Cost after iteration 900: 0.3580705011323798\n",
      "Cost after iteration 1000: 0.3394281538366413\n",
      "Cost after iteration 1100: 0.3052753636196264\n",
      "Cost after iteration 1200: 0.2749137728213015\n",
      "Cost after iteration 1300: 0.24681768210614832\n",
      "Cost after iteration 1400: 0.1985073503746611\n",
      "Cost after iteration 1500: 0.17448318112556657\n",
      "Cost after iteration 1600: 0.1708076297809737\n",
      "Cost after iteration 1700: 0.113065245621647\n",
      "Cost after iteration 1800: 0.09629426845937152\n",
      "Cost after iteration 1900: 0.08342617959726865\n",
      "Cost after iteration 2000: 0.07439078704319085\n",
      "Cost after iteration 2100: 0.06630748132267933\n",
      "Cost after iteration 2200: 0.059193295010381744\n",
      "Cost after iteration 2300: 0.053361403485605585\n",
      "Cost after iteration 2400: 0.04855478562877018\n"
     ]
    }
   ],
   "source": [
    "parameters, costs = two_layer_model(train_x, train_y, layers_dims = (12288, 7, 1), num_iterations = 2500)"
   ]
  },
  {
   "cell_type": "markdown",
   "id": "e3324c80-1728-454c-97a9-ad43db6b947b",
   "metadata": {},
   "source": [
    "## 5 - Multi-Layer Neural Network"
   ]
  },
  {
   "cell_type": "code",
   "execution_count": 12,
   "id": "b6852870-8513-4377-8833-d1d2267cfde4",
   "metadata": {},
   "outputs": [],
   "source": [
    "# Define layer dimension\n",
    "layers_dims = [12288, 20, 7, 5, 1]"
   ]
  },
  {
   "cell_type": "markdown",
   "id": "2608d712-4180-4fea-bd1b-72b298f31ee0",
   "metadata": {},
   "source": [
    "`multiple_layer_model`: wrap model into a function"
   ]
  },
  {
   "cell_type": "code",
   "execution_count": 22,
   "id": "dae1ff7e-4e45-4ed8-81da-8a03c27ee015",
   "metadata": {},
   "outputs": [],
   "source": [
    "def multiple_layer_model(X: np.ndarray, Y: np.ndarray, layers_dims: list[int], learning_rate: float=0.0075, num_iterations: int=3000):\n",
    "    \"\"\"\n",
    "    Mutli-layer neural network: linear->relu->linear->relu->...->linear->sigmoid\n",
    "    \n",
    "    Arguments:\n",
    "       X: (num_feature, num_samples)\n",
    "    Y: (1, num_samples)\n",
    "    layers_dims: [input_layer_size, hidden_layer_size, output_layer_size]\n",
    "    num_iterations: maximum number of iterations for training loop\n",
    "    learning_rate: float for adjust learning step\n",
    "    \n",
    "    Returns:\n",
    "    parameters: {'W1': W1, 'b1': b1, 'W2': W2, 'b2': b2}\n",
    "    \"\"\"\n",
    "    # Initialize parameters\n",
    "    np.random.seed(1)\n",
    "    losses = []\n",
    "    parameters = initialize_parameters_deep(layers_dims)\n",
    "    # Training loop for gradient descent\n",
    "    for i in range(0, num_iterations):\n",
    "        # forward pass\n",
    "        AL, caches = L_model_forward(X, parameters)\n",
    "        # calculate the loss\n",
    "        loss = compute_cost(AL, Y)\n",
    "        # backward pass\n",
    "        grads = L_model_backward(AL, Y, caches)\n",
    "        # update parameters\n",
    "        parameters = update_parameters(parameters, grads, learning_rate)\n",
    "        # Visualize the training process\n",
    "        if i % 100 == 0 or i == num_iterations-1:\n",
    "            print(\"Cost after iteration {}: {}\".format(i, np.squeeze(loss)))\n",
    "            losses.append(loss)\n",
    "    return parameters, losses"
   ]
  },
  {
   "cell_type": "markdown",
   "id": "c9f665b6-62f4-41ac-917e-e16a9e865379",
   "metadata": {},
   "source": [
    "call the function to train the model"
   ]
  },
  {
   "cell_type": "code",
   "execution_count": 23,
   "id": "f27dea4b-f8f4-4ad3-8656-48992beb69be",
   "metadata": {},
   "outputs": [
    {
     "name": "stdout",
     "output_type": "stream",
     "text": [
      "Cost after iteration 0: 0.7717493284237686\n",
      "Cost after iteration 100: 0.6720534400822914\n",
      "Cost after iteration 200: 0.6482632048575212\n",
      "Cost after iteration 300: 0.6115068816101354\n",
      "Cost after iteration 400: 0.5670473268366111\n",
      "Cost after iteration 500: 0.54013766345478\n",
      "Cost after iteration 600: 0.5279299569455268\n",
      "Cost after iteration 700: 0.46547737717668514\n",
      "Cost after iteration 800: 0.3691258524959279\n",
      "Cost after iteration 900: 0.39174697434805356\n",
      "Cost after iteration 1000: 0.3151869888600615\n",
      "Cost after iteration 1100: 0.27269984417893844\n",
      "Cost after iteration 1200: 0.23741853400268137\n",
      "Cost after iteration 1300: 0.19960120532208644\n",
      "Cost after iteration 1400: 0.18926300388463305\n",
      "Cost after iteration 1500: 0.1611885466582775\n",
      "Cost after iteration 1600: 0.14821389662363316\n",
      "Cost after iteration 1700: 0.13777487812972944\n",
      "Cost after iteration 1800: 0.1297401754919012\n",
      "Cost after iteration 1900: 0.12122535068005211\n",
      "Cost after iteration 2000: 0.11382060668633712\n",
      "Cost after iteration 2100: 0.10783928526254133\n",
      "Cost after iteration 2200: 0.10285466069352679\n",
      "Cost after iteration 2300: 0.10089745445261787\n",
      "Cost after iteration 2400: 0.09287821526472397\n",
      "Cost after iteration 2499: 0.088439943441702\n"
     ]
    }
   ],
   "source": [
    "parameters, costs = multiple_layer_model(train_x, train_y, layers_dims, num_iterations = 2500)"
   ]
  },
  {
   "cell_type": "markdown",
   "id": "e0517f94-94b5-4007-9bf7-208fcd7b5074",
   "metadata": {},
   "source": [
    "## 6 - Post Model Analysis"
   ]
  },
  {
   "cell_type": "code",
   "execution_count": 30,
   "id": "6a352fb1-3c9d-4886-8fc1-4fd01b5cebc4",
   "metadata": {},
   "outputs": [
    {
     "name": "stdout",
     "output_type": "stream",
     "text": [
      "Accuracy: 1.0\n"
     ]
    },
    {
     "data": {
      "image/png": "[encoded data removed]",
      "text/plain": [
       "<Figure size 640x480 with 1 Axes>"
      ]
     },
     "metadata": {},
     "output_type": "display_data"
    }
   ],
   "source": [
    "my_image = \"my_cat1.jpeg\"\n",
    "my_label_y = [1]\n",
    "\n",
    "fname = my_image\n",
    "image = np.array(Image.open(fname).resize((64, 64)))\n",
    "plt.imshow(image)\n",
    "image = image / 255.\n",
    "image = image.reshape((1, 64 * 64 * 3)).T\n",
    "\n",
    "my_predicted_image = predict(image, my_label_y, parameters)"
   ]
  },
  {
   "cell_type": "code",
   "execution_count": null,
   "id": "7fdaceba-d654-4d25-ab7f-a4cb1bd9425b",
   "metadata": {},
   "outputs": [],
   "source": []
  }
 ],
 "metadata": {
  "kernelspec": {
   "display_name": "data_science",
   "language": "python",
   "name": "data_science"
  },
  "language_info": {
   "codemirror_mode": {
    "name": "ipython",
    "version": 3
   },
   "file_extension": ".py",
   "mimetype": "text/x-python",
   "name": "python",
   "nbconvert_exporter": "python",
   "pygments_lexer": "ipython3",
   "version": "3.12.2"
  }
 },
 "nbformat": 4,
 "nbformat_minor": 5
}
