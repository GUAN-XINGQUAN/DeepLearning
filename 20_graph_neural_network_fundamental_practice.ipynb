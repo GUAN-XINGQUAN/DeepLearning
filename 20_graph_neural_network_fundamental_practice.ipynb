{
 "cells": [
  {
   "cell_type": "markdown",
   "id": "0dfbc667-e936-4228-b955-c59f98abae61",
   "metadata": {},
   "source": [
    "# 1 - Practice NetworkX Package"
   ]
  },
  {
   "cell_type": "code",
   "execution_count": 1,
   "id": "1f265492-5ffc-4c9c-8903-898958af8912",
   "metadata": {},
   "outputs": [],
   "source": [
    "import networkx as nx"
   ]
  },
  {
   "cell_type": "markdown",
   "id": "a88bcf04-4d2a-4b57-a2ad-f6d95e90a221",
   "metadata": {},
   "source": [
    "## 1.1 - Create a Graph"
   ]
  },
  {
   "cell_type": "code",
   "execution_count": 2,
   "id": "31189a2d-8002-4416-b25b-f94db02cfa33",
   "metadata": {},
   "outputs": [
    {
     "name": "stdout",
     "output_type": "stream",
     "text": [
      "False\n"
     ]
    }
   ],
   "source": [
    "# undirected graph\n",
    "G = nx.Graph()\n",
    "print(G.is_directed())"
   ]
  },
  {
   "cell_type": "code",
   "execution_count": 3,
   "id": "7feea997-e441-4299-a3db-a77b2367a2d3",
   "metadata": {},
   "outputs": [
    {
     "name": "stdout",
     "output_type": "stream",
     "text": [
      "True\n"
     ]
    }
   ],
   "source": [
    "# directed graph\n",
    "DG = nx.DiGraph()\n",
    "print(DG.is_directed())"
   ]
  },
  {
   "cell_type": "code",
   "execution_count": 4,
   "id": "72c7e404-02f8-4b01-b0dc-0f64a93feacf",
   "metadata": {},
   "outputs": [
    {
     "name": "stdout",
     "output_type": "stream",
     "text": [
      "False\n",
      "True\n"
     ]
    }
   ],
   "source": [
    "# undirected multi-graph: allow self-loop\n",
    "MG = nx.MultiGraph()\n",
    "print(MG.is_directed())\n",
    "print(MG.is_multigraph())"
   ]
  },
  {
   "cell_type": "code",
   "execution_count": 5,
   "id": "17dd26be-a46d-4cfa-a2ea-fa54dd67a515",
   "metadata": {},
   "outputs": [
    {
     "name": "stdout",
     "output_type": "stream",
     "text": [
      "True\n",
      "True\n"
     ]
    }
   ],
   "source": [
    "# directed multi-graph\n",
    "MDG = nx.MultiDiGraph()\n",
    "print(MDG.is_directed())\n",
    "print(MDG.is_multigraph())"
   ]
  },
  {
   "cell_type": "markdown",
   "id": "fec4f39c-bdd6-46d3-8b45-516076719c55",
   "metadata": {},
   "source": [
    "## 1.2 - Node"
   ]
  },
  {
   "cell_type": "code",
   "execution_count": 6,
   "id": "1db9386e-2151-4326-bcc1-ec26b20c8577",
   "metadata": {},
   "outputs": [
    {
     "name": "stdout",
     "output_type": "stream",
     "text": [
      "Graph with 1 nodes and 0 edges\n"
     ]
    }
   ],
   "source": [
    "# add one node\n",
    "G.add_node(0, feature=3, label=0)\n",
    "print(G)"
   ]
  },
  {
   "cell_type": "code",
   "execution_count": 7,
   "id": "ad6ac6ec-d371-4a38-ab18-a595970c91cc",
   "metadata": {},
   "outputs": [
    {
     "data": {
      "text/plain": [
       "NodeDataView({0: {'feature': 3, 'label': 0}})"
      ]
     },
     "execution_count": 7,
     "metadata": {},
     "output_type": "execute_result"
    }
   ],
   "source": [
    "# list nodes\n",
    "G.nodes(data=True)"
   ]
  },
  {
   "cell_type": "code",
   "execution_count": 8,
   "id": "809ac0fa-305c-4ace-b797-e92ac7784b30",
   "metadata": {},
   "outputs": [
    {
     "data": {
      "text/plain": [
       "{'feature': 3, 'label': 0}"
      ]
     },
     "execution_count": 8,
     "metadata": {},
     "output_type": "execute_result"
    }
   ],
   "source": [
    "# get node\n",
    "G.nodes[0]"
   ]
  },
  {
   "cell_type": "code",
   "execution_count": 9,
   "id": "36a5d1aa-d405-4d8d-9fb3-e30c3e34d2b6",
   "metadata": {},
   "outputs": [
    {
     "name": "stdout",
     "output_type": "stream",
     "text": [
      "Graph with 3 nodes and 0 edges\n"
     ]
    }
   ],
   "source": [
    "# add multiple nodes with attributes\n",
    "G.add_nodes_from([\n",
    "    (1, {'feature': 1, 'label': 0}),\n",
    "    (2, {'feature': 2, 'label': 1})\n",
    "])\n",
    "print(G)"
   ]
  },
  {
   "cell_type": "code",
   "execution_count": 10,
   "id": "70fad36c-331b-4123-b7ec-0deb22fc213b",
   "metadata": {},
   "outputs": [
    {
     "data": {
      "text/plain": [
       "NodeDataView({0: {'feature': 3, 'label': 0}, 1: {'feature': 1, 'label': 0}, 2: {'feature': 2, 'label': 1}})"
      ]
     },
     "execution_count": 10,
     "metadata": {},
     "output_type": "execute_result"
    }
   ],
   "source": [
    "G.nodes(data=True)"
   ]
  },
  {
   "cell_type": "markdown",
   "id": "0cbd6816-edce-46f4-84fb-e11e561806f2",
   "metadata": {},
   "source": [
    "## 1.3 - Edge"
   ]
  },
  {
   "cell_type": "code",
   "execution_count": 11,
   "id": "cbcbb9e2-7f23-4ba8-b3a4-c221b0b6739f",
   "metadata": {},
   "outputs": [
    {
     "name": "stdout",
     "output_type": "stream",
     "text": [
      "Graph with 3 nodes and 1 edges\n"
     ]
    }
   ],
   "source": [
    "# add one edge between node #0 and node #1\n",
    "G.add_edge(0, 1, weight=0.1)\n",
    "print(G)"
   ]
  },
  {
   "cell_type": "code",
   "execution_count": 12,
   "id": "b3c35726-d1ba-4716-9dcb-c6e13cfa1d81",
   "metadata": {},
   "outputs": [
    {
     "name": "stdout",
     "output_type": "stream",
     "text": [
      "Graph with 3 nodes and 3 edges\n"
     ]
    }
   ],
   "source": [
    "# add a series of nodes\n",
    "G.add_edges_from([\n",
    "    (1, 2, {'weight': 0.5}),\n",
    "    (0, 2, {'weight': 1})\n",
    "])\n",
    "print(G)"
   ]
  },
  {
   "cell_type": "code",
   "execution_count": 13,
   "id": "dabc0730-aa51-44a0-b947-591a894f6cf8",
   "metadata": {},
   "outputs": [
    {
     "data": {
      "text/plain": [
       "EdgeDataView([(0, 1, {'weight': 0.1}), (0, 2, {'weight': 1}), (1, 2, {'weight': 0.5})])"
      ]
     },
     "execution_count": 13,
     "metadata": {},
     "output_type": "execute_result"
    }
   ],
   "source": [
    "# list edges\n",
    "G.edges(data=True)"
   ]
  },
  {
   "cell_type": "markdown",
   "id": "a60c0eb3-354a-4dcc-9241-5bf08ed522f6",
   "metadata": {},
   "source": [
    "## 1.4 - Node Degrees"
   ]
  },
  {
   "cell_type": "code",
   "execution_count": 14,
   "id": "ef8714bb-79b4-4d0c-8b5d-d14c4ffbd691",
   "metadata": {},
   "outputs": [
    {
     "data": {
      "text/plain": [
       "2"
      ]
     },
     "execution_count": 14,
     "metadata": {},
     "output_type": "execute_result"
    }
   ],
   "source": [
    "# node #0's degress\n",
    "G.degree[0]"
   ]
  },
  {
   "cell_type": "markdown",
   "id": "8c30fc5d-b155-4576-9c5f-dc194bd1e718",
   "metadata": {},
   "source": [
    "## 1.5 - Visualize the graph"
   ]
  },
  {
   "cell_type": "code",
   "execution_count": 15,
   "id": "f2b4b4d8-3e67-4557-876b-9d8e00e7a542",
   "metadata": {},
   "outputs": [
    {
     "data": {
      "image/png": "[encoded data removed]",
      "text/plain": [
       "<Figure size 640x480 with 1 Axes>"
      ]
     },
     "metadata": {},
     "output_type": "display_data"
    }
   ],
   "source": [
    "nx.draw(G, with_labels=True)"
   ]
  },
  {
   "cell_type": "markdown",
   "id": "6c213d01-dce6-4cde-8d7c-58228773b80b",
   "metadata": {},
   "source": [
    "# 2 - Practice PyTorch Geometric Package"
   ]
  },
  {
   "cell_type": "code",
   "execution_count": 16,
   "id": "94f659ed-31e3-4fc1-b44b-1daa0f4def32",
   "metadata": {},
   "outputs": [
    {
     "name": "stdout",
     "output_type": "stream",
     "text": [
      "2.4.1\n"
     ]
    }
   ],
   "source": [
    "import torch\n",
    "print(torch.__version__)"
   ]
  },
  {
   "cell_type": "markdown",
   "id": "07b49346-fa19-4a07-918d-91f8d99cdbda",
   "metadata": {},
   "source": [
    "## 2.1 Try built-in dataset"
   ]
  },
  {
   "cell_type": "code",
   "execution_count": 17,
   "id": "028a3884-3c04-4805-98be-5ffcd67683bb",
   "metadata": {},
   "outputs": [],
   "source": [
    "from torch_geometric.datasets import KarateClub"
   ]
  },
  {
   "cell_type": "code",
   "execution_count": 18,
   "id": "78c98161-53b9-4956-bc9d-cb8747557f00",
   "metadata": {},
   "outputs": [
    {
     "name": "stdout",
     "output_type": "stream",
     "text": [
      "Dataset: KarateClub():\n",
      "======================\n",
      "Number of graphs: 1\n",
      "Number of features: 34\n",
      "Number of classes: 4\n"
     ]
    }
   ],
   "source": [
    "dataset = KarateClub()\n",
    "print(f'Dataset: {dataset}:')\n",
    "print('======================')\n",
    "print(f'Number of graphs: {len(dataset)}')\n",
    "print(f'Number of features: {dataset.num_features}')\n",
    "print(f'Number of classes: {dataset.num_classes}')"
   ]
  },
  {
   "cell_type": "markdown",
   "id": "463b63a5-b2b4-4e63-a728-007a18240ec8",
   "metadata": {},
   "source": [
    "Only one graph is included. Let's examine this graph."
   ]
  },
  {
   "cell_type": "code",
   "execution_count": 19,
   "id": "27870232-1423-4558-b960-69791d24f6ab",
   "metadata": {},
   "outputs": [],
   "source": [
    "data = dataset[0]"
   ]
  },
  {
   "cell_type": "code",
   "execution_count": 20,
   "id": "2a3e6c55-5474-405f-b80b-d698733bec48",
   "metadata": {},
   "outputs": [
    {
     "name": "stdout",
     "output_type": "stream",
     "text": [
      "Data(x=[34, 34], edge_index=[2, 156], y=[34], train_mask=[34])\n"
     ]
    }
   ],
   "source": [
    "print(data)"
   ]
  },
  {
   "cell_type": "markdown",
   "id": "40cbf23e-c0ae-428b-8e11-ffda308c8499",
   "metadata": {},
   "source": [
    "- `x`: 34 nodes and each of them is represented by 34-dimensional vector\n",
    "- `edge_index`: 156 edges where 1st and 2nd elements are starting and ending nodes\n",
    "- `y`: the target label for each node\n",
    "- `train_mask`: the mask used to separate training and testing nodes"
   ]
  },
  {
   "cell_type": "code",
   "execution_count": 21,
   "id": "1134affb-9b82-48eb-a4e4-da25e61f0662",
   "metadata": {},
   "outputs": [
    {
     "name": "stdout",
     "output_type": "stream",
     "text": [
      "34\n",
      "156\n",
      "tensor([ True, False, False, False,  True, False, False, False,  True, False,\n",
      "        False, False, False, False, False, False, False, False, False, False,\n",
      "        False, False, False, False,  True, False, False, False, False, False,\n",
      "        False, False, False, False])\n",
      "False\n",
      "False\n",
      "True\n"
     ]
    }
   ],
   "source": [
    "print(data.num_nodes)\n",
    "print(data.num_edges)\n",
    "print(data.train_mask)\n",
    "print(data.has_isolated_nodes())\n",
    "print(data.has_self_loops())\n",
    "print(data.is_undirected())"
   ]
  },
  {
   "cell_type": "code",
   "execution_count": 22,
   "id": "0d0dcf6d-f2c5-49d7-a637-9a855c60f7b5",
   "metadata": {},
   "outputs": [
    {
     "name": "stdout",
     "output_type": "stream",
     "text": [
      "tensor([0, 1])\n"
     ]
    }
   ],
   "source": [
    "# node #1 and node #2 has an edge\n",
    "print(data.edge_index.T[0])"
   ]
  },
  {
   "cell_type": "markdown",
   "id": "28a83114-3509-4bf4-a8ba-23bc4750f841",
   "metadata": {},
   "source": [
    "## 2.2 Visualize the data"
   ]
  },
  {
   "cell_type": "code",
   "execution_count": 23,
   "id": "500f5a70-07d9-4666-8570-5117d43ad629",
   "metadata": {},
   "outputs": [],
   "source": [
    "# convert from pytorch data object to networkx object\n",
    "from torch_geometric.utils import to_networkx\n",
    "\n",
    "G = to_networkx(data, to_undirected=True)"
   ]
  },
  {
   "cell_type": "code",
   "execution_count": 24,
   "id": "66dc8e61-10de-4de9-aaf3-dffa65f4fdfb",
   "metadata": {},
   "outputs": [
    {
     "data": {
      "image/png": "[encoded data removed]",
      "text/plain": [
       "<Figure size 640x480 with 1 Axes>"
      ]
     },
     "metadata": {},
     "output_type": "display_data"
    }
   ],
   "source": [
    "nx.draw_networkx(G, pos=nx.spring_layout(G, seed=42), with_labels=True, node_color=data.y, cmap='Set2')"
   ]
  },
  {
   "cell_type": "markdown",
   "id": "93a440c4-4cf4-469c-a1aa-53ed0905dac4",
   "metadata": {},
   "source": [
    "# 3 - Build a simple graph neural network"
   ]
  },
  {
   "cell_type": "markdown",
   "id": "291127bb-c155-44fb-937e-1d401669ffbf",
   "metadata": {},
   "source": [
    "GNN takes an input of graph $\\mathbb{G} = (\\mathbb{V}, E)$ where each node $v_i \\in \\mathbb{V}$ has a feature vector $X_i$.\n",
    "\n",
    "GNN learns a function $f_G: \\mathbb{V} \\times \\mathbb{R}^{d_1} \\rightarrow \\mathbb{R}^{d_2}$ which takes (1) the nodes, (2) the associated feature vector, and (3) the graph structure and outputs an embedding vector. This generated embedding vector may help us to perform the downstream task such as finding similar pairs or classifying node's target.\n",
    "\n",
    "The GNN below is created for classifying node's target response."
   ]
  },
  {
   "cell_type": "code",
   "execution_count": 25,
   "id": "60209791-4573-4a29-95de-4e651b69c9c3",
   "metadata": {},
   "outputs": [],
   "source": [
    "import torch\n",
    "from torch.nn import Linear\n",
    "from torch_geometric.nn import GCNConv"
   ]
  },
  {
   "cell_type": "markdown",
   "id": "bf897b21-b6c4-4b31-930e-6a57bead364f",
   "metadata": {},
   "source": [
    "## 3.1 - Implement GNN structure"
   ]
  },
  {
   "cell_type": "code",
   "execution_count": 26,
   "id": "5934f215-65d0-46b0-b1c4-117426cc3403",
   "metadata": {},
   "outputs": [
    {
     "name": "stdout",
     "output_type": "stream",
     "text": [
      "GCN(\n",
      "  (conv1): GCNConv(34, 4)\n",
      "  (conv2): GCNConv(4, 4)\n",
      "  (conv3): GCNConv(4, 2)\n",
      "  (classifier): Linear(in_features=2, out_features=4, bias=True)\n",
      ")\n"
     ]
    }
   ],
   "source": [
    "class GCN(torch.nn.Module):\n",
    "    def __init__(self):\n",
    "        super().__init__()\n",
    "        torch.manual_seed(1234)\n",
    "        self.conv1 = GCNConv(dataset.num_features, 4)\n",
    "        self.conv2 = GCNConv(4, 4)\n",
    "        self.conv3 = GCNConv(4, 2)\n",
    "        self.classifier = Linear(2, dataset.num_classes)\n",
    "\n",
    "    def forward(self, x, edge_index):\n",
    "        h1 = self.conv1(x, edge_index)\n",
    "        h1 = h1.tanh()\n",
    "        h2 = self.conv2(h1, edge_index)\n",
    "        h2 = h2.tanh()\n",
    "        h3 = self.conv3(h2, edge_index)\n",
    "        h3 = h3.tanh() \n",
    "\n",
    "        # Apply a final (linear) classifier.\n",
    "        out = self.classifier(h3)\n",
    "\n",
    "        return out, h3\n",
    "\n",
    "model = GCN()\n",
    "print(model)"
   ]
  },
  {
   "cell_type": "code",
   "execution_count": 27,
   "id": "7f1dfae5-8418-40cd-806c-0b1855a8d806",
   "metadata": {},
   "outputs": [
    {
     "name": "stdout",
     "output_type": "stream",
     "text": [
      "Embedding shape: [34, 2]\n"
     ]
    }
   ],
   "source": [
    "# initialize the model without training\n",
    "model = GCN()\n",
    "\n",
    "out, h = model(data.x, data.edge_index)\n",
    "print(f'Embedding shape: {list(h.shape)}')"
   ]
  },
  {
   "cell_type": "code",
   "execution_count": 28,
   "id": "f24238ed-29a3-405a-be91-9fb4445efbe2",
   "metadata": {},
   "outputs": [
    {
     "data": {
      "image/png": "[encoded data removed]",
      "text/plain": [
       "<Figure size 700x700 with 1 Axes>"
      ]
     },
     "metadata": {},
     "output_type": "display_data"
    }
   ],
   "source": [
    "# Visalize the model output without training\n",
    "import matplotlib.pyplot as plt\n",
    "\n",
    "plt.figure(figsize=(7,7))\n",
    "plt.xticks([])\n",
    "plt.yticks([])\n",
    "# make sure it works with gpu or cpu tensor\n",
    "if h.is_cuda:\n",
    "    hnp = h.detach().cpu().numpy()\n",
    "else:\n",
    "    hnp = h.detach().numpy()\n",
    "plt.scatter(hnp[:, 0], hnp[:, 1], s=140, c=data.y, cmap=\"Set2\")\n",
    "plt.show()"
   ]
  },
  {
   "cell_type": "markdown",
   "id": "874234c2-2253-49ae-b3b4-19e27e9628b9",
   "metadata": {},
   "source": [
    "This plot shows that, even without the model training, the node with same colors are already placed close to each other in the embedding space."
   ]
  },
  {
   "cell_type": "markdown",
   "id": "d50eb292-fcce-43a4-8833-06a98d77734f",
   "metadata": {},
   "source": [
    "## 3.2 - GNN training"
   ]
  },
  {
   "cell_type": "code",
   "execution_count": 29,
   "id": "efb4c2dc-2f56-496c-9e0b-08d614badd2b",
   "metadata": {},
   "outputs": [
    {
     "name": "stdout",
     "output_type": "stream",
     "text": [
      "tensor([ True, False, False, False,  True, False, False, False,  True, False,\n",
      "        False, False, False, False, False, False, False, False, False, False,\n",
      "        False, False, False, False,  True, False, False, False, False, False,\n",
      "        False, False, False, False])\n"
     ]
    }
   ],
   "source": [
    "print(data.train_mask)"
   ]
  },
  {
   "cell_type": "markdown",
   "id": "5c3018ba-9097-440d-b3d6-82598adc9848",
   "metadata": {},
   "source": [
    "Four nodes are available for training and the rest 30 nodes can be used for testing."
   ]
  },
  {
   "cell_type": "code",
   "execution_count": 30,
   "id": "7abed0db-e406-45a9-8bb2-38a32e773a07",
   "metadata": {},
   "outputs": [],
   "source": [
    "# Initialize the model\n",
    "model = GCN()\n",
    "# Define loss function\n",
    "loss_fun = torch.nn.CrossEntropyLoss()\n",
    "# Define optimizer\n",
    "optimizer = torch.optim.Adam(model.parameters(), lr=0.01)\n",
    "\n",
    "# training function\n",
    "def train(data):\n",
    "    # clear gradient; torch use cumulated gradient\n",
    "    optimizer.zero_grad()\n",
    "    # forward pass\n",
    "    out, h = model(data.x, data.edge_index)\n",
    "    # loss: only on the training nodes\n",
    "    loss = loss_fun(out[data.train_mask], data.y[data.train_mask])\n",
    "    # backward\n",
    "    loss.backward()\n",
    "    # update parameters\n",
    "    optimizer.step()\n",
    "\n",
    "    # record the training metric\n",
    "    accuracy = {}\n",
    "    predicted_classes = torch.argmax(out[data.train_mask], axis=1)\n",
    "    target_classes = data.y[data.train_mask]\n",
    "    accuracy['train'] = torch.mean(torch.where(predicted_classes==target_classes, 1, 0).float())\n",
    "\n",
    "    # record the metric on entire population\n",
    "    predicted_classes = torch.argmax(out, axis=1)\n",
    "    target_classes = data.y\n",
    "    accuracy['whole'] = torch.mean(torch.where(predicted_classes==target_classes, 1, 0).float())\n",
    "\n",
    "    return loss, h, accuracy"
   ]
  },
  {
   "cell_type": "code",
   "execution_count": 31,
   "id": "4ce71df0-91c3-404a-8e9b-8b5da1a7177a",
   "metadata": {},
   "outputs": [
    {
     "name": "stdout",
     "output_type": "stream",
     "text": [
      "At 0, the training accuracy is 0.25 and the whole accuracy is 0.3529411852359772\n",
      "At 100, the training accuracy is 1.0 and the whole accuracy is 0.7941176295280457\n",
      "At 200, the training accuracy is 1.0 and the whole accuracy is 0.7941176295280457\n",
      "At 300, the training accuracy is 1.0 and the whole accuracy is 0.8235294222831726\n",
      "At 400, the training accuracy is 1.0 and the whole accuracy is 0.8235294222831726\n",
      "CPU times: total: 0 ns\n",
      "Wall time: 577 ms\n"
     ]
    }
   ],
   "source": [
    "%%time\n",
    "for epoch in range(0, 500):\n",
    "    loss, h, accuracy = train(data)\n",
    "\n",
    "    if epoch % 100 == 0:\n",
    "        print(f'At {epoch}, the training accuracy is {accuracy[\"train\"]} and the whole accuracy is {accuracy[\"whole\"]}')"
   ]
  },
  {
   "cell_type": "code",
   "execution_count": 32,
   "id": "b2937173-19a3-486b-a3d3-1eaf0fd8ced0",
   "metadata": {},
   "outputs": [
    {
     "data": {
      "image/png": "[encoded data removed]",
      "text/plain": [
       "<Figure size 700x700 with 1 Axes>"
      ]
     },
     "metadata": {},
     "output_type": "display_data"
    }
   ],
   "source": [
    "# Visalize the model output without training\n",
    "import matplotlib.pyplot as plt\n",
    "\n",
    "plt.figure(figsize=(7,7))\n",
    "plt.xticks([])\n",
    "plt.yticks([])\n",
    "# make sure it works with gpu or cpu tensor\n",
    "if h.is_cuda:\n",
    "    hnp = h.detach().cpu().numpy()\n",
    "else:\n",
    "    hnp = h.detach().numpy()\n",
    "plt.scatter(hnp[:, 0], hnp[:, 1], s=140, c=data.y, cmap=\"Set2\")\n",
    "plt.show()"
   ]
  },
  {
   "cell_type": "markdown",
   "id": "8bb0a5f2-a1b4-446e-ac66-072b14ea93ab",
   "metadata": {},
   "source": [
    "The GNN model separates the communities pretty well and assigns the correct target to the node."
   ]
  }
 ],
 "metadata": {
  "kernelspec": {
   "display_name": "graph_neural_network",
   "language": "python",
   "name": "graph_neural_network"
  },
  "language_info": {
   "codemirror_mode": {
    "name": "ipython",
    "version": 3
   },
   "file_extension": ".py",
   "mimetype": "text/x-python",
   "name": "python",
   "nbconvert_exporter": "python",
   "pygments_lexer": "ipython3",
   "version": "3.10.16"
  }
 },
 "nbformat": 4,
 "nbformat_minor": 5
}
